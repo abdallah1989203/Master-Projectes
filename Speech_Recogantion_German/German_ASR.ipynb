{
 "nbformat": 4,
 "nbformat_minor": 0,
 "metadata": {
  "colab": {
   "name": "German ASR",
   "provenance": [],
   "collapsed_sections": []
  },
  "kernelspec": {
   "name": "python3",
   "display_name": "Python 3"
  },
  "language_info": {
   "name": "python"
  },
  "accelerator": "GPU"
 },
 "cells": [
  {
   "cell_type": "markdown",
   "source": [
    "## Environment setup"
   ],
   "metadata": {
    "id": "Ud0k803W3ZPQ"
   }
  },
  {
   "cell_type": "markdown",
   "source": [
    "In this section we install all the system and Python libraries necessary for the project.\n"
   ],
   "metadata": {
    "id": "n5yfmyuT2Tsy"
   }
  },
  {
   "cell_type": "code",
   "source": [
    "%%sh\n",
    "python3 -V\n",
    "pip3 -V"
   ],
   "metadata": {
    "id": "8NuUui8O6bZe"
   },
   "execution_count": null,
   "outputs": []
  },
  {
   "cell_type": "code",
   "source": [
    "%cd /"
   ],
   "metadata": {
    "id": "n9a4YeGx4pmt"
   },
   "execution_count": null,
   "outputs": []
  },
  {
   "cell_type": "code",
   "source": [
    "%%sh\n",
    "apt-get update && apt-get upgrade -y\n",
    "apt-get update && apt-get install -y libsndfile1"
   ],
   "metadata": {
    "id": "Y8mD9Cjr5lYL"
   },
   "execution_count": null,
   "outputs": []
  },
  {
   "cell_type": "code",
   "source": [
    "%%sh\n",
    "# KenLM\n",
    "apt-get update && apt-get install -y libboost-all-dev\n",
    "git clone --depth 1  https://github.com/kpu/kenlm.git\n",
    "mkdir -p kenlm/build \\\n",
    "  && cd kenlm/build \\\n",
    "  && cmake .. \\\n",
    "  && make -j $(nproc)"
   ],
   "metadata": {
    "id": "iUHV4Ir05ruV"
   },
   "execution_count": null,
   "outputs": []
  },
  {
   "cell_type": "code",
   "source": [
    "%%sh\n",
    "# PocoLM\n",
    "apt-get update && apt-get install -y subversion\n",
    "git clone --depth 1 https://github.com/danpovey/pocolm.git\n",
    "cd pocolm/ \\\n",
    "  && make -j $(nproc)"
   ],
   "metadata": {
    "id": "wqqbco9M62aQ"
   },
   "execution_count": null,
   "outputs": []
  },
  {
   "cell_type": "code",
   "source": [
    "%%sh\n",
    "# Use some tools from DeepSpeech project\n",
    "git clone --depth 1 https://github.com/mozilla/DeepSpeech.git\n",
    "# CTC decoder (the next line is required for building with shallow git clone)\n",
    "sed -i 's/git describe --long --tags/git describe --long --tags --always/g' /DeepSpeech/native_client/bazel_workspace_status_cmd.sh\n",
    "apt-get update && apt-get install -y libmagic-dev\n",
    "cd /DeepSpeech/native_client/ctcdecode && make NUM_PROCESSES=$(nproc) bindings\n",
    "pip3 install --upgrade /DeepSpeech/native_client/ctcdecode/dist/*.whl"
   ],
   "metadata": {
    "id": "NMJzD96M7WkK"
   },
   "execution_count": null,
   "outputs": []
  },
  {
   "cell_type": "code",
   "source": [
    "%%sh\n",
    "# Get prebuilt scorer generator script\n",
    "cd /DeepSpeech/data/lm/ \\\n",
    "  && curl -LO https://github.com/mozilla/DeepSpeech/releases/latest/download/native_client.amd64.cpu.linux.tar.xz \\\n",
    "  && tar xvf native_client.*.tar.xz"
   ],
   "metadata": {
    "id": "_Cu7kjaj48Ld"
   },
   "execution_count": null,
   "outputs": []
  },
  {
   "cell_type": "code",
   "source": [
    "%%sh\n",
    "# Solve broken pip \"ImportError: No module named pip._internal.cli.main\"\n",
    "python3 -m pip install --upgrade pip"
   ],
   "metadata": {
    "id": "zy9vTQv484Uo"
   },
   "execution_count": null,
   "outputs": []
  },
  {
   "cell_type": "code",
   "source": [
    "%%sh\n",
    "# Dependencies for noise normalization\n",
    "apt-get update && apt-get install -y ffmpeg\n",
    "pip install --no-cache-dir --upgrade pydub librosa"
   ],
   "metadata": {
    "id": "F18ZcHNd8-Jy"
   },
   "execution_count": null,
   "outputs": []
  },
  {
   "cell_type": "code",
   "source": [
    "%%sh\n",
    "# Pre-install some libraries for faster installation time of training package\n",
    "pip3 install --no-cache-dir pandas\n",
    "pip3 install --no-cache-dir \"tensorflow<2.5,>=2.4\"\n",
    "pip3 install --no-cache-dir \"tensorflow-addons<0.13\"\n",
    "pip3 install --no-cache-dir \"tensorflow-io<0.18\""
   ],
   "metadata": {
    "id": "5ELc4coF9Es9"
   },
   "execution_count": null,
   "outputs": []
  },
  {
   "cell_type": "code",
   "source": [
    "%%sh\n",
    "# Install audiomate, with some fixes\n",
    "apt-get update && apt-get install -y sox libsox-fmt-mp3\n",
    "pip3 install --no-cache-dir audiomate\n",
    "sed -i 's/from down import Downloader/from pget.down import Downloader/g' /usr/local/lib/python3.7/dist-packages/pget/__init__.py\n",
    "sed -i 's/print \"Resume is not applicable at this stage.\"/print(\"Resume is not applicable at this stage.\")/g' /usr/local/lib/python3.7/dist-packages/pget/down.py"
   ],
   "metadata": {
    "id": "dZhowtYL9QcK"
   },
   "execution_count": null,
   "outputs": []
  },
  {
   "cell_type": "code",
   "source": [
    "%%sh\n",
    "# Training profiler\n",
    "pip3 install --upgrade --no-cache-dir tensorboard-plugin-profile\n",
    "\n",
    "# Dependency to draw graph images\n",
    "apt-get update && apt-get install -y graphviz\n",
    "\n",
    "# TfLite runtime\n",
    "pip3 install --no-cache-dir --extra-index-url https://google-coral.github.io/py-repo/ tflite_runtime\n",
    "\n",
    "# Install corcua\n",
    "git clone --depth 1 https://gitlab.com/Jaco-Assistant/corcua.git\n",
    "pip3 install --no-cache-dir -e corcua/"
   ],
   "metadata": {
    "id": "F7_30j0T-F7b"
   },
   "execution_count": null,
   "outputs": []
  },
  {
   "cell_type": "code",
   "source": [
    "%%sh\n",
    "git clone https://gitlab.com/Jaco-Assistant/Scribosermo\n",
    "cp -r /Scribosermo/training/ /training/\n",
    "pip3 install --no-cache-dir -e /Scribosermo/training/"
   ],
   "metadata": {
    "id": "sN-V_AM9-R1_"
   },
   "execution_count": null,
   "outputs": []
  },
  {
   "cell_type": "markdown",
   "source": [
    "**Restart you runtime**"
   ],
   "metadata": {
    "id": "UgHiKvcu1ZdF"
   }
  },
  {
   "cell_type": "code",
   "source": [],
   "metadata": {
    "id": "Jgq-hNjt1hf_"
   },
   "execution_count": null,
   "outputs": []
  },
  {
   "cell_type": "markdown",
   "source": [
    "## Download the datasets, pre-trained models, and language model"
   ],
   "metadata": {
    "id": "robJiii_3hl3"
   }
  },
  {
   "cell_type": "code",
   "source": [
    "%cd /"
   ],
   "metadata": {
    "id": "z_iHWJ5H5JJi"
   },
   "execution_count": null,
   "outputs": []
  },
  {
   "cell_type": "markdown",
   "source": [
    "File structure should look like this:\n",
    "\n",
    "```text\n",
    "my_speech2text_folder\n",
    "    checkpoints\n",
    "    corcua\n",
    "    data_original\n",
    "    data_prepared\n",
    "    Scribosermo\n",
    "```"
   ],
   "metadata": {
    "id": "U0wDawCK2qND"
   }
  },
  {
   "cell_type": "code",
   "source": [
    "!mkdir checkpoints data_original data_prepared\n",
    "!mkdir /data_prepared/langmodel/"
   ],
   "metadata": {
    "id": "Ghri67YUE14_"
   },
   "execution_count": null,
   "outputs": []
  },
  {
   "cell_type": "markdown",
   "source": [
    "### Language model"
   ],
   "metadata": {
    "id": "P1QoQ9I43soy"
   }
  },
  {
   "cell_type": "markdown",
   "source": [
    "Download a pre-trained language model for output performance enhancement"
   ],
   "metadata": {
    "id": "cnX0innp3TJY"
   }
  },
  {
   "cell_type": "markdown",
   "source": [
    "Go to https://www.mediafire.com/file/pzj8prgv2h0c8ue/kenlm_de_all.scorer/file and copy the download link"
   ],
   "metadata": {
    "id": "9fzWvcNu3i34"
   }
  },
  {
   "cell_type": "code",
   "source": [
    "# !wget <generated_download_link>\n",
    "!wget https://download1076.mediafire.com/cjxjvjk3plvg/pzj8prgv2h0c8ue/kenlm_de_all.scorer"
   ],
   "metadata": {
    "id": "hTMksmGexeyV"
   },
   "execution_count": null,
   "outputs": []
  },
  {
   "cell_type": "code",
   "source": [
    "!mv /kenlm_de_all.scorer /data_prepared/langmodel/de.scorer"
   ],
   "metadata": {
    "id": "dlBq-SCCyFlR"
   },
   "execution_count": null,
   "outputs": []
  },
  {
   "cell_type": "markdown",
   "source": [
    "### Pre-trained model"
   ],
   "metadata": {
    "id": "40VJaXCW3wI6"
   }
  },
  {
   "cell_type": "markdown",
   "source": [
    "go to https://www.mediafire.com/folder/jh5unptizgzou/d37cv-wer0066\n",
    "then clik on `pb.zip` and copy the generated download link"
   ],
   "metadata": {
    "id": "yf1AwAl23D-M"
   }
  },
  {
   "cell_type": "code",
   "source": [
    "# !wget <generated_download_link>\n",
    "!wget --backups=1 https://download1582.mediafire.com/mw2rjh12qsmg/udh6fnf3lcpbt71/pb.zip"
   ],
   "metadata": {
    "id": "Ebe8nqgia1Ar"
   },
   "execution_count": null,
   "outputs": []
  },
  {
   "cell_type": "markdown",
   "source": [
    "go to https://www.mediafire.com/folder/jh5unptizgzou/d37cv-wer0066\n",
    "then click on `config_export.json` and copy the generated download link"
   ],
   "metadata": {
    "id": "pd3R7gM55WM6"
   }
  },
  {
   "cell_type": "code",
   "source": [
    "!wget --backups=1 https://download1590.mediafire.com/lkwo10fv222g/u05b4i8z6b940kc/config_export.json"
   ],
   "metadata": {
    "id": "wBFHTkpiDDqg"
   },
   "execution_count": null,
   "outputs": []
  },
  {
   "cell_type": "code",
   "source": [
    "# move the model and config file to the required directories\n",
    "!mkdir -p /checkpoints/de/cvd37/\n",
    "!mkdir -p /checkpoints/de/cvd37-2/\n",
    "\n",
    "!unzip /pb.zip -d /checkpoints/de/cvd37/\n",
    "!mv /checkpoints/de/cvd37/pb/* /checkpoints/de/cvd37/\n",
    "!rm -r /checkpoints/de/cvd37/pb\n",
    "!cp -r /checkpoints/de/cvd37/* /checkpoints/de/cvd37-2/"
   ],
   "metadata": {
    "id": "Eeedt3rC50cp"
   },
   "execution_count": null,
   "outputs": []
  },
  {
   "cell_type": "markdown",
   "source": [
    "### Fix model save"
   ],
   "metadata": {
    "id": "M2XuZWvhehqa"
   }
  },
  {
   "cell_type": "markdown",
   "source": [
    "Save the model's weights instead of the entire model. This is to circumvent a problem when loading the model."
   ],
   "metadata": {
    "id": "d6mfb71qHK-h"
   }
  },
  {
   "cell_type": "code",
   "source": [
    "import tensorflow as tf\n",
    "\n",
    "\n",
    "with tf.device(\"CPU\"):\n",
    "    model = tf.keras.models.load_model(\"/checkpoints/de/cvd37-2/\")\n",
    "    model.save_weights(\"/checkpoints/de/cvd37-2/\")\n",
    "    model.save_weights(\"/checkpoints/de/cvd37/\")"
   ],
   "metadata": {
    "id": "SK_mQdyFOYX7"
   },
   "execution_count": null,
   "outputs": []
  },
  {
   "cell_type": "code",
   "source": [
    ""
   ],
   "metadata": {
    "id": "8OduqCOsIAOq"
   },
   "execution_count": null,
   "outputs": []
  },
  {
   "cell_type": "markdown",
   "source": [
    "### Datasets"
   ],
   "metadata": {
    "id": "rYcxpOeV3XYE"
   }
  },
  {
   "cell_type": "markdown",
   "source": [
    "**Restart your runtime before proceeding**"
   ],
   "metadata": {
    "id": "h0Mh-2s_2MsZ"
   }
  },
  {
   "cell_type": "markdown",
   "source": [
    "Download the dataset and preprocess it, convert all audio files so that they have 16K sampling rate"
   ],
   "metadata": {
    "id": "Ya37eZM0Huzx"
   }
  },
  {
   "cell_type": "code",
   "source": [
    "from corcua import downloaders, readers, writers\n",
    "\n",
    "\n",
    "downloaders.voxforge.Downloader().download_dataset(path=\"/data_original/de/voxforge/\", overwrite=True, args={\"language\": \"de\"})\n",
    "ds = readers.voxforge.Reader().load_dataset({\"path\": \"/data_original/de/voxforge/\"})\n",
    "writers.base_writer.Writer().save_dataset(ds, path=\"/data_prepared/de/voxforge/\", sample_rate=16_000, overwrite=True)"
   ],
   "metadata": {
    "id": "T94pa0f20SzN"
   },
   "execution_count": null,
   "outputs": []
  },
  {
   "cell_type": "markdown",
   "source": [
    "Split the data into train, development and test tests (80%, 10%, 10%, respectively, here. You can change the percentages as you wish.)"
   ],
   "metadata": {
    "id": "1Mui1u-BHbn9"
   }
  },
  {
   "cell_type": "code",
   "source": [
    "!python3 /Scribosermo/preprocessing/split_dataset.py /data_prepared/de/voxforge/all.csv --split '80|10|10' --file_appendix _s"
   ],
   "metadata": {
    "id": "40WVdMSD4Pn_"
   },
   "execution_count": null,
   "outputs": []
  },
  {
   "cell_type": "code",
   "source": [
    "# remove very short, very long and quick samples\n",
    "\n",
    "!python3 /Scribosermo/preprocessing/dataset_operations.py \\\n",
    "\"/data_prepared/de/voxforge/train_s.csv\" \\\n",
    "\"/data_prepared/de/voxforge/train_clean.csv\" --replace --exclude --clean\n",
    "\n",
    "!python3 /Scribosermo/preprocessing/dataset_operations.py \\\n",
    "\"/data_prepared/de/voxforge/dev_s.csv\" \\\n",
    "\"/data_prepared/de/voxforge/dev_clean.csv\" --replace --exclude --clean\n",
    "\n",
    "# don't clean test\n",
    "!python3 /Scribosermo/preprocessing/dataset_operations.py \\\n",
    "\"/data_prepared/de/voxforge/test_s.csv\" \\\n",
    "\"/data_prepared/de/voxforge/test_clean.csv\" --replace --exclude"
   ],
   "metadata": {
    "id": "FLd0YYtf3XUW"
   },
   "execution_count": null,
   "outputs": []
  },
  {
   "cell_type": "code",
   "source": [
    ""
   ],
   "metadata": {
    "id": "hYyYQjYsCKQ0"
   },
   "execution_count": null,
   "outputs": []
  },
  {
   "cell_type": "markdown",
   "source": [
    "## Create training config"
   ],
   "metadata": {
    "id": "-aQnxgzwIfm7"
   }
  },
  {
   "cell_type": "markdown",
   "source": [
    "The `config` values control the training process.\n",
    "\n",
    "Here you can set the batch size, the learning rate, and the number of epochs"
   ],
   "metadata": {
    "id": "9xMIZ6-Z1yGj"
   }
  },
  {
   "cell_type": "code",
   "source": [
    "import json\n",
    "import yaml\n",
    "\n",
    "\n",
    "with open(\"/config_export.json\", \"r\") as f:\n",
    "    config = json.load(f)\n",
    "\n",
    "config[\"data_paths\"] = {\n",
    "    \"eval\": \"/data_prepared/de/voxforge/dev_clean.csv\",\n",
    "    \"test\": \"/data_prepared/de/voxforge/test_clean.csv\",\n",
    "    \"train\": \"/data_prepared/de/voxforge/train_clean.csv\"\n",
    "}\n",
    "config[\"scorer\"][\"path\"] = \"/data_prepared/langmodel/de.scorer\""
   ],
   "metadata": {
    "id": "50pOsqjG2Hue"
   },
   "execution_count": null,
   "outputs": []
  },
  {
   "cell_type": "markdown",
   "source": [
    "Print the `config` dict to view all other available options"
   ],
   "metadata": {
    "id": "H_adhqJb2NkI"
   }
  },
  {
   "cell_type": "code",
   "source": [
    "config[\"batch_sizes\"] = {\n",
    "    \"train\": 32,\n",
    "    \"eval\": 32,\n",
    "    \"test\": 1\n",
    "}\n",
    "config[\"optimizer\"][\"learning_rate\"] = 1e-5\n",
    "config[\"training_epochs\"] = 200\n",
    "config[\"freeze_base_net\"] = False"
   ],
   "metadata": {
    "id": "Puwpyu32Ikhu"
   },
   "execution_count": null,
   "outputs": []
  },
  {
   "cell_type": "code",
   "source": [
    "# save the config file\n",
    "with open(\"/config_export_modified.json\", \"w\") as f:\n",
    "    json.dump(config, f)\n",
    "\n",
    "with open(\"/Scribosermo/training/config/train_config.yaml\", \"w\") as f:\n",
    "    yaml.dump(config, f, default_flow_style=False)\n",
    "\n",
    "!cp /config_export_modified.json /checkpoints/de/cvd37-2/config_export.json\n",
    "!cp /config_export_modified.json /checkpoints/de/cvd37/config_export.json"
   ],
   "metadata": {
    "id": "wmjIyErk2Uw-"
   },
   "execution_count": null,
   "outputs": []
  },
  {
   "cell_type": "markdown",
   "source": [
    "## Train"
   ],
   "metadata": {
    "id": "Ydd8-D4NereS"
   }
  },
  {
   "cell_type": "code",
   "source": [
    "# run to start training\n",
    "!python3 /Scribosermo/training/run_train.py"
   ],
   "metadata": {
    "id": "WiBM9SK-JgqS"
   },
   "execution_count": null,
   "outputs": []
  },
  {
   "cell_type": "code",
   "source": [
    ""
   ],
   "metadata": {
    "id": "P7NKXEQLDmf4"
   },
   "execution_count": null,
   "outputs": []
  }
 ]
}